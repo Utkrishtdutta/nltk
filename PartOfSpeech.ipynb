{
 "cells": [
  {
   "cell_type": "code",
   "execution_count": 1,
   "metadata": {},
   "outputs": [],
   "source": [
    "# About India\n",
    "paragraph = '''\n",
    "India, country that occupies the greater part of South Asia. India is made up of 28 states and eight union territories, and its national capital is New Delhi, built in the 20th century just south of the historic hub of Old Delhi to serve as India’s administrative centre. Its government is a constitutional republic that represents a highly diverse population consisting of thousands of ethnic groups and hundreds of languages. India became the world’s most populous country in 2023, according to estimates by the United Nations.\n",
    "\n",
    "It is known from archaeological evidence that a highly sophisticated urbanized culture—the Indus civilization—dominated the northwestern part of the subcontinent from about 2600 to 2000 BCE. From that period on, India functioned as a virtually self-contained political and cultural arena, which gave rise to a distinctive tradition that was associated primarily with Hinduism, the roots of which can largely be traced to the Indus civilization. Other religions, notably Buddhism and Jainism, originated in India—though their presence there is now quite small—and throughout the centuries residents of the subcontinent developed a rich intellectual life in such fields as mathematics, astronomy, architecture, literature, music, and the fine arts.\n",
    "'''"
   ]
  },
  {
   "cell_type": "code",
   "execution_count": 10,
   "metadata": {},
   "outputs": [],
   "source": [
    "from nltk.corpus import stopwords\n",
    "from nltk import sent_tokenize,word_tokenize,pos_tag"
   ]
  },
  {
   "cell_type": "code",
   "execution_count": 5,
   "metadata": {},
   "outputs": [
    {
     "data": {
      "text/plain": [
       "['\\nIndia, country that occupies the greater part of South Asia.',\n",
       " 'India is made up of 28 states and eight union territories, and its national capital is New Delhi, built in the 20th century just south of the historic hub of Old Delhi to serve as India’s administrative centre.',\n",
       " 'Its government is a constitutional republic that represents a highly diverse population consisting of thousands of ethnic groups and hundreds of languages.',\n",
       " 'India became the world’s most populous country in 2023, according to estimates by the United Nations.',\n",
       " 'It is known from archaeological evidence that a highly sophisticated urbanized culture—the Indus civilization—dominated the northwestern part of the subcontinent from about 2600 to 2000 BCE.',\n",
       " 'From that period on, India functioned as a virtually self-contained political and cultural arena, which gave rise to a distinctive tradition that was associated primarily with Hinduism, the roots of which can largely be traced to the Indus civilization.',\n",
       " 'Other religions, notably Buddhism and Jainism, originated in India—though their presence there is now quite small—and throughout the centuries residents of the subcontinent developed a rich intellectual life in such fields as mathematics, astronomy, architecture, literature, music, and the fine arts.']"
      ]
     },
     "execution_count": 5,
     "metadata": {},
     "output_type": "execute_result"
    }
   ],
   "source": [
    "sent = sent_tokenize(paragraph)\n",
    "sent"
   ]
  },
  {
   "cell_type": "code",
   "execution_count": 11,
   "metadata": {},
   "outputs": [],
   "source": [
    "for s in sent:\n",
    "    word = [i for i in word_tokenize(s) if i not in stopwords.words('english')]\n",
    "    word_tag = pos_tag(word)"
   ]
  },
  {
   "cell_type": "code",
   "execution_count": 12,
   "metadata": {},
   "outputs": [
    {
     "data": {
      "text/plain": [
       "[('Other', 'JJ'),\n",
       " ('religions', 'NNS'),\n",
       " (',', ','),\n",
       " ('notably', 'RB'),\n",
       " ('Buddhism', 'NNP'),\n",
       " ('Jainism', 'NNP'),\n",
       " (',', ','),\n",
       " ('originated', 'VBD'),\n",
       " ('India—though', 'NNP'),\n",
       " ('presence', 'NN'),\n",
       " ('quite', 'RB'),\n",
       " ('small—and', 'VBZ'),\n",
       " ('throughout', 'IN'),\n",
       " ('centuries', 'NNS'),\n",
       " ('residents', 'NNS'),\n",
       " ('subcontinent', 'JJ'),\n",
       " ('developed', 'VBD'),\n",
       " ('rich', 'JJ'),\n",
       " ('intellectual', 'JJ'),\n",
       " ('life', 'NN'),\n",
       " ('fields', 'NNS'),\n",
       " ('mathematics', 'NNS'),\n",
       " (',', ','),\n",
       " ('astronomy', 'NN'),\n",
       " (',', ','),\n",
       " ('architecture', 'NN'),\n",
       " (',', ','),\n",
       " ('literature', 'NN'),\n",
       " (',', ','),\n",
       " ('music', 'NN'),\n",
       " (',', ','),\n",
       " ('fine', 'JJ'),\n",
       " ('arts', 'NNS'),\n",
       " ('.', '.')]"
      ]
     },
     "execution_count": 12,
     "metadata": {},
     "output_type": "execute_result"
    }
   ],
   "source": [
    "word_tag"
   ]
  },
  {
   "cell_type": "code",
   "execution_count": 13,
   "metadata": {},
   "outputs": [
    {
     "data": {
      "text/plain": [
       "['India', 'is', 'a', 'beautiful', 'Country']"
      ]
     },
     "execution_count": 13,
     "metadata": {},
     "output_type": "execute_result"
    }
   ],
   "source": [
    "\"India is a beautiful Country\".split()"
   ]
  },
  {
   "cell_type": "code",
   "execution_count": 14,
   "metadata": {},
   "outputs": [
    {
     "name": "stdout",
     "output_type": "stream",
     "text": [
      "[('India', 'NNP'), ('is', 'VBZ'), ('a', 'DT'), ('beautiful', 'JJ'), ('Country', 'NN')]\n"
     ]
    }
   ],
   "source": [
    "print(pos_tag(\"India is a beautiful Country\".split()))"
   ]
  },
  {
   "cell_type": "code",
   "execution_count": null,
   "metadata": {},
   "outputs": [],
   "source": []
  }
 ],
 "metadata": {
  "kernelspec": {
   "display_name": "Python 3",
   "language": "python",
   "name": "python3"
  },
  "language_info": {
   "codemirror_mode": {
    "name": "ipython",
    "version": 3
   },
   "file_extension": ".py",
   "mimetype": "text/x-python",
   "name": "python",
   "nbconvert_exporter": "python",
   "pygments_lexer": "ipython3",
   "version": "3.11.4"
  }
 },
 "nbformat": 4,
 "nbformat_minor": 2
}
